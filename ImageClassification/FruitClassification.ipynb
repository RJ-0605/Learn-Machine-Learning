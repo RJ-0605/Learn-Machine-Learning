{
  "nbformat": 4,
  "nbformat_minor": 0,
  "metadata": {
    "colab": {
      "name": "ImageClassificationModel.ipynb",
      "provenance": []
    },
    "kernelspec": {
      "name": "python3",
      "display_name": "Python 3"
    }
  },
  "cells": [
    {
      "cell_type": "code",
      "metadata": {
        "id": "yaLft75d2hVZ",
        "colab_type": "code",
        "colab": {
          "base_uri": "https://localhost:8080/",
          "height": 202
        },
        "outputId": "e2c79cd3-0b2f-422d-cf0e-d3153b91eb58"
      },
      "source": [
        "!wget --no-check-certificate \\\n",
        "https://md-datasets-cache-zipfiles-prod.s3.eu-west-1.amazonaws.com/rp73yg93n8-1.zip -O /tmp/dataset.zip"
      ],
      "execution_count": 3,
      "outputs": [
        {
          "output_type": "stream",
          "text": [
            "--2020-08-30 10:20:17--  https://md-datasets-cache-zipfiles-prod.s3.eu-west-1.amazonaws.com/rp73yg93n8-1.zip\n",
            "Resolving md-datasets-cache-zipfiles-prod.s3.eu-west-1.amazonaws.com (md-datasets-cache-zipfiles-prod.s3.eu-west-1.amazonaws.com)... 52.218.24.120\n",
            "Connecting to md-datasets-cache-zipfiles-prod.s3.eu-west-1.amazonaws.com (md-datasets-cache-zipfiles-prod.s3.eu-west-1.amazonaws.com)|52.218.24.120|:443... connected.\n",
            "HTTP request sent, awaiting response... 200 OK\n",
            "Length: 418811602 (399M) [application/octet-stream]\n",
            "Saving to: ‘/tmp/dataset.zip’\n",
            "\n",
            "/tmp/dataset.zip    100%[===================>] 399.41M  10.7MB/s    in 37s     \n",
            "\n",
            "2020-08-30 10:20:55 (10.8 MB/s) - ‘/tmp/dataset.zip’ saved [418811602/418811602]\n",
            "\n"
          ],
          "name": "stdout"
        }
      ]
    },
    {
      "cell_type": "code",
      "metadata": {
        "id": "i8_cDabQ22V1",
        "colab_type": "code",
        "colab": {}
      },
      "source": [
        "from zipfile import ZipFile\n",
        "import os\n",
        "\n",
        "local_zip = '/tmp/dataset.zip'\n",
        "\n",
        "zip_file = ZipFile(local_zip, 'r')\n",
        "zip_file.extractall('/tmp')\n",
        "zip_file.close()\n",
        "\n",
        "extracted_zip = '/tmp/fruits-360_dataset.zip'\n",
        "\n",
        "zip_file = ZipFile(extracted_zip, 'r')\n",
        "zip_file.extractall('/tmp')\n",
        "zip_file.close()"
      ],
      "execution_count": 9,
      "outputs": []
    },
    {
      "cell_type": "code",
      "metadata": {
        "id": "lJu1pAxg25RY",
        "colab_type": "code",
        "colab": {}
      },
      "source": [
        "import pandas as pd\n",
        "\n",
        "data_path = '/tmp/fruits-360/Training'\n",
        "\n",
        "train_path = []\n",
        "train_label = []\n",
        "for label in os.listdir(data_path):\n",
        "    for item in os.listdir(os.path.join(data_path, label)):\n",
        "        train_path.append(data_path + '/' + label + '/' + item)\n",
        "        train_label.append(label)"
      ],
      "execution_count": 10,
      "outputs": []
    },
    {
      "cell_type": "code",
      "metadata": {
        "id": "A7XDVc8A3eLP",
        "colab_type": "code",
        "colab": {}
      },
      "source": [
        "import pandas as pd\n",
        "from sklearn.model_selection import train_test_split\n",
        "\n",
        "X_train, X_test, y_train, y_test = train_test_split(train_path, train_label, test_size=0.2, random_state=1)\n",
        "\n",
        "training_set = pd.DataFrame({'y': y_train, 'X': X_train})\n",
        "test_set = pd.DataFrame({'y': y_test, 'X': X_test})"
      ],
      "execution_count": 12,
      "outputs": []
    },
    {
      "cell_type": "code",
      "metadata": {
        "id": "uKZG-2Bk364-",
        "colab_type": "code",
        "colab": {}
      },
      "source": [
        "from tensorflow.keras.preprocessing.image import ImageDataGenerator\n",
        "\n",
        "train_datagen = ImageDataGenerator(\n",
        "                    rescale=1./255,\n",
        "                    rotation_range=20,\n",
        "                    horizontal_flip=True,\n",
        "                    shear_range = 0.2,\n",
        "                    fill_mode = 'nearest')\n",
        " \n",
        "test_datagen = ImageDataGenerator(\n",
        "                    rescale=1./255,\n",
        "                    rotation_range=20,\n",
        "                    horizontal_flip=True,\n",
        "                    shear_range = 0.2,\n",
        "                    fill_mode = 'nearest')"
      ],
      "execution_count": 21,
      "outputs": []
    },
    {
      "cell_type": "code",
      "metadata": {
        "id": "LJNUlfZg5eDb",
        "colab_type": "code",
        "colab": {
          "base_uri": "https://localhost:8080/",
          "height": 50
        },
        "outputId": "0750c283-a900-4feb-b9f5-5a4463d65861"
      },
      "source": [
        "train_generator = train_datagen.flow_from_dataframe(\n",
        "    training_set,\n",
        "    x_col='X',\n",
        "    y_col='y',\n",
        "    target_size=(50,50),\n",
        "    batch_size=4,\n",
        "    class_mode='sparse'\n",
        ")\n",
        "\n",
        "validation_generator = test_datagen.flow_from_dataframe(\n",
        "    test_set,\n",
        "    x_col='X',\n",
        "    y_col='y',\n",
        "    target_size=(50,50),\n",
        "    batch_size=4,\n",
        "    class_mode='sparse'\n",
        ")"
      ],
      "execution_count": 22,
      "outputs": [
        {
          "output_type": "stream",
          "text": [
            "Found 33057 validated image filenames belonging to 81 classes.\n",
            "Found 8265 validated image filenames belonging to 81 classes.\n"
          ],
          "name": "stdout"
        }
      ]
    },
    {
      "cell_type": "code",
      "metadata": {
        "id": "3MUn71xm5lJg",
        "colab_type": "code",
        "colab": {}
      },
      "source": [
        "import tensorflow as tf\n",
        "from tensorflow.keras.models import Sequential\n",
        "from tensorflow.keras.layers import Conv2D, MaxPooling2D, Flatten, Dense\n",
        "from tensorflow.keras.losses import sparse_categorical_crossentropy\n",
        "\n",
        "model = Sequential([\n",
        "    Conv2D(32, (3,3), activation='relu', input_shape=(50, 50, 3)),\n",
        "    MaxPooling2D(2, 2),\n",
        "    Conv2D(64, (3,3), activation='relu'),\n",
        "    MaxPooling2D(2,2),\n",
        "    Conv2D(128, (3,3), activation='relu'),\n",
        "    MaxPooling2D(2,2),\n",
        "    Flatten(),\n",
        "    Dense(512, activation='relu'),\n",
        "    Dense(81, activation='softmax')\n",
        "])\n",
        "\n",
        "model.compile(loss=sparse_categorical_crossentropy,\n",
        "              optimizer=tf.optimizers.Adam(),\n",
        "              metrics=['accuracy'])"
      ],
      "execution_count": 36,
      "outputs": []
    },
    {
      "cell_type": "code",
      "metadata": {
        "id": "Uk26PbCf9W5f",
        "colab_type": "code",
        "colab": {}
      },
      "source": [
        "class myCallback(tf.keras.callbacks.Callback):\n",
        "  def on_epoch_end(self, epoch, logs={}):\n",
        "    if(logs.get('accuracy')>0.92):\n",
        "      print(\"\\nAkurasi telah mencapai >92%!\")\n",
        "      self.model.stop_training = True\n",
        "\n",
        "callbacks = myCallback()"
      ],
      "execution_count": 37,
      "outputs": []
    },
    {
      "cell_type": "code",
      "metadata": {
        "id": "q-i0KUFJ5rOQ",
        "colab_type": "code",
        "colab": {
          "base_uri": "https://localhost:8080/",
          "height": 420
        },
        "outputId": "27a91894-ffb9-4a7d-8c58-88d52fd5e6d5"
      },
      "source": [
        "history = model.fit(\n",
        "            train_generator,\n",
        "            epochs=20,\n",
        "            steps_per_epoch=500,\n",
        "            validation_data=validation_generator,\n",
        "            validation_steps=100,\n",
        "            verbose=2,\n",
        "            callbacks=[callbacks])"
      ],
      "execution_count": 38,
      "outputs": [
        {
          "output_type": "stream",
          "text": [
            "Epoch 1/20\n",
            "500/500 - 18s - loss: 3.3073 - accuracy: 0.1510 - val_loss: 2.1265 - val_accuracy: 0.3625\n",
            "Epoch 2/20\n",
            "500/500 - 18s - loss: 1.6475 - accuracy: 0.4780 - val_loss: 1.1141 - val_accuracy: 0.6275\n",
            "Epoch 3/20\n",
            "500/500 - 19s - loss: 0.9773 - accuracy: 0.6765 - val_loss: 0.7496 - val_accuracy: 0.7450\n",
            "Epoch 4/20\n",
            "500/500 - 18s - loss: 0.7001 - accuracy: 0.7710 - val_loss: 0.8761 - val_accuracy: 0.6850\n",
            "Epoch 5/20\n",
            "500/500 - 18s - loss: 0.5096 - accuracy: 0.8220 - val_loss: 0.4761 - val_accuracy: 0.8500\n",
            "Epoch 6/20\n",
            "500/500 - 18s - loss: 0.4070 - accuracy: 0.8615 - val_loss: 0.2644 - val_accuracy: 0.9225\n",
            "Epoch 7/20\n",
            "500/500 - 18s - loss: 0.3804 - accuracy: 0.8810 - val_loss: 0.2359 - val_accuracy: 0.9300\n",
            "Epoch 8/20\n",
            "500/500 - 18s - loss: 0.3361 - accuracy: 0.8855 - val_loss: 0.3848 - val_accuracy: 0.8675\n",
            "Epoch 9/20\n",
            "500/500 - 18s - loss: 0.2817 - accuracy: 0.9070 - val_loss: 0.4089 - val_accuracy: 0.8500\n",
            "Epoch 10/20\n",
            "500/500 - 18s - loss: 0.3395 - accuracy: 0.8905 - val_loss: 0.1990 - val_accuracy: 0.9375\n",
            "Epoch 11/20\n",
            "\n",
            "Akurasi telah mencapai >92%!\n",
            "500/500 - 18s - loss: 0.2312 - accuracy: 0.9205 - val_loss: 0.1734 - val_accuracy: 0.9550\n"
          ],
          "name": "stdout"
        }
      ]
    },
    {
      "cell_type": "code",
      "metadata": {
        "id": "epYY0Ixj-l5F",
        "colab_type": "code",
        "colab": {
          "base_uri": "https://localhost:8080/",
          "height": 295
        },
        "outputId": "45b3a2ff-5fc1-4880-86d8-aa585d27b0bf"
      },
      "source": [
        "import matplotlib.pyplot as plt\n",
        "\n",
        "plt.plot(history.history['loss'])\n",
        "plt.title('Model loss')\n",
        "plt.ylabel('Loss')\n",
        "plt.xlabel('Epoch')\n",
        "plt.legend(['Train'], loc='upper right')\n",
        "plt.show()"
      ],
      "execution_count": 39,
      "outputs": [
        {
          "output_type": "display_data",
          "data": {
            "image/png": "[encoded data removed]",
            "text/plain": [
              "<Figure size 432x288 with 1 Axes>"
            ]
          },
          "metadata": {
            "tags": [],
            "needs_background": "light"
          }
        }
      ]
    },
    {
      "cell_type": "code",
      "metadata": {
        "id": "pYeSYLWt-oLO",
        "colab_type": "code",
        "colab": {
          "base_uri": "https://localhost:8080/",
          "height": 295
        },
        "outputId": "36bbba13-6afe-46cc-9228-04937117e5b7"
      },
      "source": [
        "plt.plot(history.history['accuracy'])\n",
        "plt.title('Model accuracy')\n",
        "plt.ylabel('Accuracy')\n",
        "plt.xlabel('Epoch')\n",
        "plt.legend(['Train'], loc='lower right')\n",
        "plt.show()"
      ],
      "execution_count": 40,
      "outputs": [
        {
          "output_type": "display_data",
          "data": {
            "image/png": "[encoded data removed]",
            "text/plain": [
              "<Figure size 432x288 with 1 Axes>"
            ]
          },
          "metadata": {
            "tags": [],
            "needs_background": "light"
          }
        }
      ]
    },
    {
      "cell_type": "code",
      "metadata": {
        "id": "bOoq0fkACHOh",
        "colab_type": "code",
        "colab": {
          "base_uri": "https://localhost:8080/",
          "height": 50
        },
        "outputId": "e23422dd-fbe6-4845-d473-b7087e28b663"
      },
      "source": [
        "converter = tf.lite.TFLiteConverter.from_keras_model(model)\n",
        "tflite_model = converter.convert()"
      ],
      "execution_count": 41,
      "outputs": [
        {
          "output_type": "stream",
          "text": [
            "INFO:tensorflow:Assets written to: /tmp/tmp8ks7ua1f/assets\n"
          ],
          "name": "stdout"
        },
        {
          "output_type": "stream",
          "text": [
            "INFO:tensorflow:Assets written to: /tmp/tmp8ks7ua1f/assets\n"
          ],
          "name": "stderr"
        }
      ]
    },
    {
      "cell_type": "code",
      "metadata": {
        "id": "0mBQW2eMCLLE",
        "colab_type": "code",
        "colab": {}
      },
      "source": [
        "with tf.io.gfile.GFile('model.tflite', 'wb') as f:\n",
        "  f.write(tflite_model)"
      ],
      "execution_count": 42,
      "outputs": []
    }
  ]
}