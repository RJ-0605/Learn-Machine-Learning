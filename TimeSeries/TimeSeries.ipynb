{
  "nbformat": 4,
  "nbformat_minor": 0,
  "metadata": {
    "colab": {
      "name": "TimeSeries.ipynb",
      "provenance": [],
      "collapsed_sections": []
    },
    "kernelspec": {
      "name": "python3",
      "display_name": "Python 3"
    }
  },
  "cells": [
    {
      "cell_type": "code",
      "metadata": {
        "id": "IVbzgAsGf33w",
        "colab_type": "code",
        "colab": {
          "base_uri": "https://localhost:8080/",
          "height": 353
        },
        "outputId": "95465fab-dadc-44c6-9303-1c32937a8f0e"
      },
      "source": [
        "!wget --no-check-certificate \\\n",
        "https://github.com/luthfi11/Learn-Machine-Learning/blob/master/TimeSeries/IOT-temp.csv?raw=true -O /tmp/dataset.csv"
      ],
      "execution_count": 1,
      "outputs": [
        {
          "output_type": "stream",
          "text": [
            "--2020-08-29 05:33:48--  https://github.com/luthfi11/Learn-Machine-Learning/blob/master/TimeSeries/IOT-temp.csv?raw=true\n",
            "Resolving github.com (github.com)... 140.82.112.3\n",
            "Connecting to github.com (github.com)|140.82.112.3|:443... connected.\n",
            "HTTP request sent, awaiting response... 302 Found\n",
            "Location: https://github.com/luthfi11/Learn-Machine-Learning/raw/master/TimeSeries/IOT-temp.csv [following]\n",
            "--2020-08-29 05:33:49--  https://github.com/luthfi11/Learn-Machine-Learning/raw/master/TimeSeries/IOT-temp.csv\n",
            "Reusing existing connection to github.com:443.\n",
            "HTTP request sent, awaiting response... 302 Found\n",
            "Location: https://raw.githubusercontent.com/luthfi11/Learn-Machine-Learning/master/TimeSeries/IOT-temp.csv [following]\n",
            "--2020-08-29 05:33:50--  https://raw.githubusercontent.com/luthfi11/Learn-Machine-Learning/master/TimeSeries/IOT-temp.csv\n",
            "Resolving raw.githubusercontent.com (raw.githubusercontent.com)... 151.101.0.133, 151.101.64.133, 151.101.128.133, ...\n",
            "Connecting to raw.githubusercontent.com (raw.githubusercontent.com)|151.101.0.133|:443... connected.\n",
            "HTTP request sent, awaiting response... 200 OK\n",
            "Length: 6850520 (6.5M) [text/plain]\n",
            "Saving to: ‘/tmp/dataset.csv’\n",
            "\n",
            "/tmp/dataset.csv    100%[===================>]   6.53M  15.8MB/s    in 0.4s    \n",
            "\n",
            "2020-08-29 05:33:51 (15.8 MB/s) - ‘/tmp/dataset.csv’ saved [6850520/6850520]\n",
            "\n"
          ],
          "name": "stdout"
        }
      ]
    },
    {
      "cell_type": "code",
      "metadata": {
        "id": "-ufFRtdHgh5u",
        "colab_type": "code",
        "colab": {
          "base_uri": "https://localhost:8080/",
          "height": 195
        },
        "outputId": "182252f4-7c1f-4012-8430-9cef4ed99273"
      },
      "source": [
        "import pandas as pd\n",
        "import numpy as np\n",
        "\n",
        "data_train = pd.read_csv('/tmp/dataset.csv')\n",
        "data_train['temp'] = data_train['temp'].astype(np.float32)\n",
        "data_train.head()"
      ],
      "execution_count": 2,
      "outputs": [
        {
          "output_type": "execute_result",
          "data": {
            "text/html": [
              "<div>\n",
              "<style scoped>\n",
              "    .dataframe tbody tr th:only-of-type {\n",
              "        vertical-align: middle;\n",
              "    }\n",
              "\n",
              "    .dataframe tbody tr th {\n",
              "        vertical-align: top;\n",
              "    }\n",
              "\n",
              "    .dataframe thead th {\n",
              "        text-align: right;\n",
              "    }\n",
              "</style>\n",
              "<table border=\"1\" class=\"dataframe\">\n",
              "  <thead>\n",
              "    <tr style=\"text-align: right;\">\n",
              "      <th></th>\n",
              "      <th>id</th>\n",
              "      <th>room_id/id</th>\n",
              "      <th>noted_date</th>\n",
              "      <th>temp</th>\n",
              "      <th>out/in</th>\n",
              "    </tr>\n",
              "  </thead>\n",
              "  <tbody>\n",
              "    <tr>\n",
              "      <th>0</th>\n",
              "      <td>__export__.temp_log_196134_bd201015</td>\n",
              "      <td>Room Admin</td>\n",
              "      <td>08-12-2018 09:30</td>\n",
              "      <td>29.0</td>\n",
              "      <td>In</td>\n",
              "    </tr>\n",
              "    <tr>\n",
              "      <th>1</th>\n",
              "      <td>__export__.temp_log_196131_7bca51bc</td>\n",
              "      <td>Room Admin</td>\n",
              "      <td>08-12-2018 09:30</td>\n",
              "      <td>29.0</td>\n",
              "      <td>In</td>\n",
              "    </tr>\n",
              "    <tr>\n",
              "      <th>2</th>\n",
              "      <td>__export__.temp_log_196127_522915e3</td>\n",
              "      <td>Room Admin</td>\n",
              "      <td>08-12-2018 09:29</td>\n",
              "      <td>41.0</td>\n",
              "      <td>Out</td>\n",
              "    </tr>\n",
              "    <tr>\n",
              "      <th>3</th>\n",
              "      <td>__export__.temp_log_196128_be0919cf</td>\n",
              "      <td>Room Admin</td>\n",
              "      <td>08-12-2018 09:29</td>\n",
              "      <td>41.0</td>\n",
              "      <td>Out</td>\n",
              "    </tr>\n",
              "    <tr>\n",
              "      <th>4</th>\n",
              "      <td>__export__.temp_log_196126_d30b72fb</td>\n",
              "      <td>Room Admin</td>\n",
              "      <td>08-12-2018 09:29</td>\n",
              "      <td>31.0</td>\n",
              "      <td>In</td>\n",
              "    </tr>\n",
              "  </tbody>\n",
              "</table>\n",
              "</div>"
            ],
            "text/plain": [
              "                                    id  room_id/id  ...  temp  out/in\n",
              "0  __export__.temp_log_196134_bd201015  Room Admin  ...  29.0      In\n",
              "1  __export__.temp_log_196131_7bca51bc  Room Admin  ...  29.0      In\n",
              "2  __export__.temp_log_196127_522915e3  Room Admin  ...  41.0     Out\n",
              "3  __export__.temp_log_196128_be0919cf  Room Admin  ...  41.0     Out\n",
              "4  __export__.temp_log_196126_d30b72fb  Room Admin  ...  31.0      In\n",
              "\n",
              "[5 rows x 5 columns]"
            ]
          },
          "metadata": {
            "tags": []
          },
          "execution_count": 2
        }
      ]
    },
    {
      "cell_type": "code",
      "metadata": {
        "id": "iKJPOMCVgvXw",
        "colab_type": "code",
        "colab": {
          "base_uri": "https://localhost:8080/",
          "height": 118
        },
        "outputId": "7af8bdf8-9be9-4ce2-d448-c822dcaec0b3"
      },
      "source": [
        "data_train.isnull().sum()"
      ],
      "execution_count": 3,
      "outputs": [
        {
          "output_type": "execute_result",
          "data": {
            "text/plain": [
              "id            0\n",
              "room_id/id    0\n",
              "noted_date    0\n",
              "temp          0\n",
              "out/in        0\n",
              "dtype: int64"
            ]
          },
          "metadata": {
            "tags": []
          },
          "execution_count": 3
        }
      ]
    },
    {
      "cell_type": "code",
      "metadata": {
        "id": "iLpMJOwbg1A6",
        "colab_type": "code",
        "colab": {
          "base_uri": "https://localhost:8080/",
          "height": 341
        },
        "outputId": "02641137-74ed-44e2-810b-d1e8ef682fa5"
      },
      "source": [
        "import matplotlib.pyplot as plt\n",
        "\n",
        "dates = data_train['noted_date'].values\n",
        "temp  = data_train['temp'].values\n",
        " \n",
        "plt.figure(figsize=(15,5))\n",
        "plt.plot(dates, temp)\n",
        "plt.title('Temperature', fontsize=20);"
      ],
      "execution_count": 4,
      "outputs": [
        {
          "output_type": "display_data",
          "data": {
            "image/png": "[encoded data removed]",
            "text/plain": [
              "<Figure size 1080x360 with 1 Axes>"
            ]
          },
          "metadata": {
            "tags": [],
            "needs_background": "light"
          }
        }
      ]
    },
    {
      "cell_type": "code",
      "metadata": {
        "id": "Z3TBWCuLhg2H",
        "colab_type": "code",
        "colab": {}
      },
      "source": [
        "def windowed_dataset(series, window_size, batch_size, shuffle_buffer):\n",
        "    series = tf.expand_dims(series, axis=-1)\n",
        "    ds = tf.data.Dataset.from_tensor_slices(series)\n",
        "    ds = ds.window(window_size + 1, shift=1, drop_remainder=True)\n",
        "    ds = ds.flat_map(lambda w: w.batch(window_size + 1))\n",
        "    ds = ds.shuffle(shuffle_buffer)\n",
        "    ds = ds.map(lambda w: (w[:-1], w[-1:]))\n",
        "    \n",
        "    return ds.batch(batch_size).prefetch(1)"
      ],
      "execution_count": 5,
      "outputs": []
    },
    {
      "cell_type": "code",
      "metadata": {
        "id": "8gSOhz-Br0qv",
        "colab_type": "code",
        "colab": {
          "base_uri": "https://localhost:8080/",
          "height": 34
        },
        "outputId": "0dd1c44b-e5c9-4a60-c0e2-272614e34737"
      },
      "source": [
        "from sklearn.model_selection import train_test_split\n",
        "\n",
        "X_train, X_test, y_train, y_test = train_test_split(dates, temp, test_size=0.2, shuffle=False)\n",
        "\n",
        "print(min(y_train), max(y_train), (max(y_train)-min(y_train))*0.1)"
      ],
      "execution_count": 12,
      "outputs": [
        {
          "output_type": "stream",
          "text": [
            "21.0 51.0 3.0\n"
          ],
          "name": "stdout"
        }
      ]
    },
    {
      "cell_type": "code",
      "metadata": {
        "id": "Iue57cRvhmQB",
        "colab_type": "code",
        "colab": {}
      },
      "source": [
        "import tensorflow as tf\n",
        "\n",
        "train_set = windowed_dataset(y_train, window_size=60, batch_size=200, shuffle_buffer=1000)\n",
        "validation_set = windowed_dataset(y_test, window_size=60, batch_size=200, shuffle_buffer=1000)\n",
        "\n",
        "model = tf.keras.models.Sequential([\n",
        "  tf.keras.layers.LSTM(60, return_sequences=True),\n",
        "  tf.keras.layers.LSTM(60),\n",
        "  tf.keras.layers.Dense(30, activation=\"relu\"),\n",
        "  tf.keras.layers.Dense(10, activation=\"relu\"),\n",
        "  tf.keras.layers.Dense(1),\n",
        "])"
      ],
      "execution_count": 7,
      "outputs": []
    },
    {
      "cell_type": "code",
      "metadata": {
        "id": "o_ffMPXChqih",
        "colab_type": "code",
        "colab": {
          "base_uri": "https://localhost:8080/",
          "height": 185
        },
        "outputId": "308452ab-107e-46ff-f053-02bedb9569b6"
      },
      "source": [
        "optimizer = tf.keras.optimizers.SGD(lr=1.0000e-04, momentum=0.9)\n",
        "model.compile(loss=tf.keras.losses.Huber(),\n",
        "              optimizer=optimizer,\n",
        "              metrics=[\"mae\"])\n",
        "\n",
        "history = model.fit(train_set, validation_data=validation_set, epochs=5)"
      ],
      "execution_count": 8,
      "outputs": [
        {
          "output_type": "stream",
          "text": [
            "Epoch 1/5\n",
            "391/391 [==============================] - 80s 206ms/step - loss: 35.4488 - mae: 35.9488 - val_loss: 28.0208 - val_mae: 28.5208\n",
            "Epoch 2/5\n",
            "391/391 [==============================] - 80s 204ms/step - loss: 18.9076 - mae: 19.3820 - val_loss: 1.8101 - val_mae: 2.2724\n",
            "Epoch 3/5\n",
            "391/391 [==============================] - 81s 207ms/step - loss: 2.1069 - mae: 2.5285 - val_loss: 1.7168 - val_mae: 2.1687\n",
            "Epoch 4/5\n",
            "391/391 [==============================] - 80s 206ms/step - loss: 2.0960 - mae: 2.5164 - val_loss: 1.7526 - val_mae: 2.2110\n",
            "Epoch 5/5\n",
            "391/391 [==============================] - 80s 205ms/step - loss: 2.0918 - mae: 2.5125 - val_loss: 1.6306 - val_mae: 2.0734\n"
          ],
          "name": "stdout"
        }
      ]
    }
  ]
}